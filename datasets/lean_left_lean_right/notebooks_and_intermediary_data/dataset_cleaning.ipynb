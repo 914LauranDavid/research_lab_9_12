{
  "nbformat": 4,
  "nbformat_minor": 0,
  "metadata": {
    "colab": {
      "provenance": []
    },
    "kernelspec": {
      "name": "python3",
      "display_name": "Python 3"
    },
    "language_info": {
      "name": "python"
    }
  },
  "cells": [
    {
      "cell_type": "code",
      "execution_count": 17,
      "metadata": {
        "colab": {
          "base_uri": "https://localhost:8080/"
        },
        "id": "yLBzdA1NInxd",
        "outputId": "59d5e070-429d-45d5-810c-e90ea8657e30"
      },
      "outputs": [
        {
          "output_type": "stream",
          "name": "stdout",
          "text": [
            "Data cleaned and saved to cleaned_data.csv\n"
          ]
        }
      ],
      "source": [
        "import csv\n",
        "import re\n",
        "\n",
        "def clean_data(input_file, output_file):\n",
        "    cleaned_data = []\n",
        "\n",
        "    with open(input_file, mode='r', encoding='utf-8') as file:\n",
        "        reader = csv.DictReader(file)\n",
        "        data = list(reader)\n",
        "\n",
        "        # clean the fragments\n",
        "        for row in data:\n",
        "            fragment = row['Text']\n",
        "\n",
        "            fragment = fragment.strip()\n",
        "            fragment = re.sub(r'\\s+', ' ', fragment)\n",
        "\n",
        "            fragment = re.sub(r'[A-Za-z\\s]+/[A-Za-z\\s]+(?: via Getty Images| hide caption)', '', fragment)\n",
        "\n",
        "            fragment = re.sub(r'\\b(?:hide caption|AP writes|As we write this)\\b', '', fragment, flags=re.IGNORECASE)\n",
        "\n",
        "            row['Text'] = fragment\n",
        "\n",
        "        # remove duplicates\n",
        "        for i, row in enumerate(data):\n",
        "            fragment = row['Text']\n",
        "            is_duplicate = False\n",
        "\n",
        "            for j, other_row in enumerate(data):\n",
        "                if i != j and fragment in other_row['Text']:\n",
        "                    is_duplicate = True\n",
        "                    break\n",
        "\n",
        "            if not is_duplicate and fragment.strip():\n",
        "                cleaned_data.append(row)\n",
        "\n",
        "    with open(output_file, mode='w', encoding='utf-8', newline='') as file:\n",
        "        fieldnames = ['Text', 'Leaning', 'Year']\n",
        "        writer = csv.DictWriter(file, fieldnames=fieldnames)\n",
        "        writer.writeheader()\n",
        "        writer.writerows(cleaned_data)\n",
        "\n",
        "    print(f\"Data cleaned and saved to {output_file}\")\n",
        "\n",
        "    return cleaned_data\n",
        "\n",
        "input_csv = 'all_years_merged.csv'\n",
        "output_csv = 'cleaned_data.csv'\n",
        "cleaned_data = clean_data(input_csv, output_csv)\n"
      ]
    },
    {
      "cell_type": "code",
      "source": [
        "len(cleaned_data)"
      ],
      "metadata": {
        "id": "HuYviYdRJgBG",
        "outputId": "0a9da561-ce48-480a-d58a-162a662ca705",
        "colab": {
          "base_uri": "https://localhost:8080/"
        }
      },
      "execution_count": 18,
      "outputs": [
        {
          "output_type": "execute_result",
          "data": {
            "text/plain": [
              "692"
            ]
          },
          "metadata": {},
          "execution_count": 18
        }
      ]
    },
    {
      "cell_type": "code",
      "source": [
        "# clean boilerplate\n",
        "def remove_boilerplate(data):\n",
        "    boilerplate_patterns = [\n",
        "        r\"Source:.*\",\n",
        "        r\"Editor's Note:.*\",\n",
        "        r\"NPR transcripts are created on a rush deadline.*\",\n",
        "        r\"This text may not be in its final form and may be updated.*\",\n",
        "        r\"All rights reserved\\.\",\n",
        "        r\"[A-Za-z\\s]+/[A-Za-z\\s]+(?: via Getty Images| hide caption)\",\n",
        "    ]\n",
        "\n",
        "    boilerplate_regex = [re.compile(pattern, re.IGNORECASE) for pattern in boilerplate_patterns]\n",
        "\n",
        "    for row in data:\n",
        "        fragment = row['Text']\n",
        "        for regex in boilerplate_regex:\n",
        "            fragment = regex.sub('', fragment)\n",
        "        row['Text'] = fragment.strip()\n",
        "\n",
        "    return data\n",
        "\n",
        "cleaned_data = remove_boilerplate(cleaned_data)\n",
        "\n",
        "with open(output_csv, mode='w', encoding='utf-8', newline='') as file:\n",
        "    fieldnames = ['Text', 'Leaning', 'Year']\n",
        "    writer = csv.DictWriter(file, fieldnames=fieldnames)\n",
        "    writer.writeheader()\n",
        "    writer.writerows(cleaned_data)\n",
        "\n",
        "print(f\"Final data cleaned and saved to {output_csv}\")\n"
      ],
      "metadata": {
        "colab": {
          "base_uri": "https://localhost:8080/"
        },
        "id": "JIfaofObMjoL",
        "outputId": "d810d72b-444d-4d1e-ca8b-af272d77b173"
      },
      "execution_count": 20,
      "outputs": [
        {
          "output_type": "stream",
          "name": "stdout",
          "text": [
            "Final data cleaned and saved to cleaned_data.csv\n"
          ]
        }
      ]
    },
    {
      "cell_type": "code",
      "source": [
        "len(cleaned_data)"
      ],
      "metadata": {
        "colab": {
          "base_uri": "https://localhost:8080/"
        },
        "id": "PCTFdEGGMug3",
        "outputId": "217cca08-dc51-490f-e0d8-697d4e4bfa40"
      },
      "execution_count": 21,
      "outputs": [
        {
          "output_type": "execute_result",
          "data": {
            "text/plain": [
              "692"
            ]
          },
          "metadata": {},
          "execution_count": 21
        }
      ]
    },
    {
      "cell_type": "code",
      "source": [
        "# equalize the number of left, center, right samples\n",
        "# left: 9765\n",
        "#"
      ],
      "metadata": {
        "id": "YIbq9smON61v"
      },
      "execution_count": null,
      "outputs": []
    },
    {
      "cell_type": "code",
      "source": [],
      "metadata": {
        "id": "sZ_t9h7COKXI"
      },
      "execution_count": null,
      "outputs": []
    }
  ]
}