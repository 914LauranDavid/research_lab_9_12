{
  "nbformat": 4,
  "nbformat_minor": 0,
  "metadata": {
    "colab": {
      "provenance": []
    },
    "kernelspec": {
      "name": "python3",
      "display_name": "Python 3"
    },
    "language_info": {
      "name": "python"
    }
  },
  "cells": [
    {
      "cell_type": "code",
      "execution_count": 2,
      "metadata": {
        "id": "b6ZoPpFb17Hr"
      },
      "outputs": [],
      "source": [
        "def process_file(input_file, output_file):\n",
        "    with open(input_file, 'r') as file:\n",
        "        lines = file.readlines()\n",
        "\n",
        "    # Process the first line (keep it as is)\n",
        "    first_line = lines[0].strip()\n",
        "\n",
        "    # Process the rest of the lines\n",
        "    processed_lines = [first_line]  # Keep the first line as is\n",
        "    for line in lines[1:]:\n",
        "        line = line.replace(\"'\", '').lower()\n",
        "        line = line.replace(\".\", \"\")\n",
        "        line = line.replace(\"”\", \"\")\n",
        "        processed_lines.append(line.strip())\n",
        "\n",
        "    # Write the processed content to a new file\n",
        "    with open(output_file, 'w') as file:\n",
        "        for line in processed_lines:\n",
        "            file.write(line + '\\n')\n",
        "\n",
        "# Example usage:\n",
        "input_file = 'output.csv'   # Replace with your input file name\n",
        "output_file = 'new_output.csv' # Replace with your desired output file name\n",
        "char_to_remove = 'e'       # Replace with the character you want to remove\n",
        "\n",
        "process_file(input_file, output_file)\n"
      ]
    }
  ]
}